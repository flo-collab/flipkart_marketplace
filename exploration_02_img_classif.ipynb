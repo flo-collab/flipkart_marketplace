{
 "cells": [
  {
   "cell_type": "code",
   "execution_count": 59,
   "metadata": {},
   "outputs": [
    {
     "name": "stdout",
     "output_type": "stream",
     "text": [
      "The autoreload extension is already loaded. To reload it, use:\n",
      "  %reload_ext autoreload\n"
     ]
    }
   ],
   "source": [
    "import pandas as pd\n",
    "import matplotlib.pyplot as plt\n",
    "import cv2\n",
    "\n",
    "import tensorflow as tf\n",
    "from tensorflow import keras\n",
    "\n",
    "from somefunc import *\n",
    "%load_ext autoreload\n",
    "%autoreload 2\n",
    "\n",
    "images_path = \"data/images\""
   ]
  },
  {
   "cell_type": "code",
   "execution_count": 47,
   "metadata": {},
   "outputs": [],
   "source": [
    "df = pd.read_csv('data/cleaned_by_etienne.csv')\n",
    "\n",
    "df[\"product_category_tree\"] = df[\"product_category_tree\"].apply(clean_categ)\n",
    "df['path_file'] = df[\"uniq_id\"].apply(get_path_file)\n",
    "df['categ_0'] = df[\"product_category_tree\"].apply(get_subcateg, deepness = 0)\n",
    "\n",
    "df.drop(columns=['crawl_timestamp','product_url','pid', 'retail_price', 'discounted_price',\n",
    "'image','is_FK_Advantage_product','product_rating','overall_rating','brand','product_specifications','uniq_id'],inplace=True)\n",
    "\n",
    "categ_0_names = df.categ_0.unique()\n"
   ]
  },
  {
   "cell_type": "code",
   "execution_count": 60,
   "metadata": {},
   "outputs": [],
   "source": [
    "\n",
    "images_list = get_img_list(df.path_file.values)\n",
    "categ_0_list_num, categ_0_names= pd.factorize(df['categ_0'])\n",
    "categ_0_list_hot =  tf.keras.utils.to_categorical(categ_0_list_num, num_classes=len(categ_0_names))\n"
   ]
  },
  {
   "cell_type": "code",
   "execution_count": 69,
   "metadata": {},
   "outputs": [],
   "source": [
    "from sklearn.model_selection import train_test_split\n",
    "X_train, X_val, y_train, y_val = train_test_split(images_list, categ_0_list_hot, test_size=0.1, random_state=42)"
   ]
  },
  {
   "cell_type": "code",
   "execution_count": 86,
   "metadata": {},
   "outputs": [],
   "source": [
    "# ds = tf.data.Dataset.from_tensor_slices((images_list, categ_0_list_hot))\n",
    "ds_train = tf.data.Dataset.from_tensor_slices((X_train, y_train))\n",
    "ds_val = tf.data.Dataset.from_tensor_slices((X_val, y_val))"
   ]
  },
  {
   "cell_type": "code",
   "execution_count": 93,
   "metadata": {},
   "outputs": [],
   "source": [
    "BATCH_SIZE=4\n",
    "ds_train = ds_train.batch(BATCH_SIZE)\n",
    "# .prefetch( tf.data.AUTOTUNE)\n",
    "ds_val  = ds_val.batch(BATCH_SIZE)"
   ]
  },
  {
   "cell_type": "code",
   "execution_count": 94,
   "metadata": {},
   "outputs": [
    {
     "data": {
      "text/plain": [
       "<tf.Tensor: shape=(7,), dtype=float32, numpy=array([1., 0., 0., 0., 0., 0., 0.], dtype=float32)>"
      ]
     },
     "execution_count": 94,
     "metadata": {},
     "output_type": "execute_result"
    }
   ],
   "source": [
    "image_batch,label_batch = next(iter(ds))\n",
    "label_batch"
   ]
  },
  {
   "cell_type": "code",
   "execution_count": 95,
   "metadata": {},
   "outputs": [
    {
     "data": {
      "text/plain": [
       "<tf.Tensor: shape=(7,), dtype=float32, numpy=array([1., 0., 0., 0., 0., 0., 0.], dtype=float32)>"
      ]
     },
     "execution_count": 95,
     "metadata": {},
     "output_type": "execute_result"
    }
   ],
   "source": [
    "label_batch"
   ]
  },
  {
   "cell_type": "code",
   "execution_count": 109,
   "metadata": {},
   "outputs": [],
   "source": [
    "from tensorflow.keras.applications import EfficientNetB0\n",
    "from tensorflow.keras import layers\n",
    "from tensorflow.keras.models import Model\n",
    "IMG_SIZE = 224\n",
    "base_model = EfficientNetB0(include_top=True, weights=\"imagenet\")\n",
    "base_model = Model(base_model.inputs, base_model.layers[-2].output)\n",
    "\n",
    "model_in = layers.Input(shape=(IMG_SIZE, IMG_SIZE, 3))\n",
    "temp_out = base_model(model_in)\n",
    "\n",
    "model_out = layers.Dense(7,activation='softmax')(temp_out)\n",
    "\n",
    "model_effnet = tf.keras.Model(model_in, model_out)"
   ]
  },
  {
   "cell_type": "code",
   "execution_count": 110,
   "metadata": {},
   "outputs": [],
   "source": [
    "model_effnet.compile(optimizer=\"adam\", loss=\"categorical_crossentropy\", metrics=[\"accuracy\"])"
   ]
  },
  {
   "cell_type": "code",
   "execution_count": null,
   "metadata": {},
   "outputs": [],
   "source": [
    "from tensorflow.keras.callbacks import EarlyStopping\n",
    "es = EarlyStopping(mode='min', monitor='val_loss', patience=10, verbose=0)\n",
    "rl = ReduceLROnPlateau(monitor='val_acc',factor=0.1,patience=5,verbose=1,mode=\"max\",min_lr=0.0001)"
   ]
  },
  {
   "cell_type": "code",
   "execution_count": null,
   "metadata": {},
   "outputs": [],
   "source": [
    "history = model_effnet.fit(ds_train,\n",
    "                            epochs = 50,\n",
    "                            validation_data=ds_val,\n",
    "                            # steps_per_epoch=50,\n",
    "                            # validation_steps = 5\n",
    "                            )"
   ]
  },
  {
   "cell_type": "code",
   "execution_count": 113,
   "metadata": {},
   "outputs": [],
   "source": [
    " model_effnet.save('models/ model_effnet01.h5')"
   ]
  }
 ],
 "metadata": {
  "interpreter": {
   "hash": "cd034a515de17f468cd2037e9a44680cdca34a0229035d3131e4550d1883c7f0"
  },
  "kernelspec": {
   "display_name": "Python 3.10.4 ('P23_remote_marketplace-UJLiqy4W')",
   "language": "python",
   "name": "python3"
  },
  "language_info": {
   "codemirror_mode": {
    "name": "ipython",
    "version": 3
   },
   "file_extension": ".py",
   "mimetype": "text/x-python",
   "name": "python",
   "nbconvert_exporter": "python",
   "pygments_lexer": "ipython3",
   "version": "3.10.4"
  },
  "orig_nbformat": 4
 },
 "nbformat": 4,
 "nbformat_minor": 2
}
