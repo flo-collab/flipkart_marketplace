{
 "cells": [
  {
   "cell_type": "code",
   "execution_count": 59,
   "metadata": {},
   "outputs": [
    {
     "name": "stdout",
     "output_type": "stream",
     "text": [
      "The autoreload extension is already loaded. To reload it, use:\n",
      "  %reload_ext autoreload\n"
     ]
    }
   ],
   "source": [
    "import pandas as pd\n",
    "import matplotlib.pyplot as plt\n",
    "import cv2\n",
    "\n",
    "import tensorflow as tf\n",
    "from tensorflow import keras\n",
    "\n",
    "from somefunc import *\n",
    "%load_ext autoreload\n",
    "%autoreload 2\n",
    "\n",
    "images_path = \"data/images\""
   ]
  },
  {
   "cell_type": "code",
   "execution_count": 47,
   "metadata": {},
   "outputs": [],
   "source": [
    "df = pd.read_csv('data/cleaned_by_etienne.csv')\n",
    "\n",
    "df[\"product_category_tree\"] = df[\"product_category_tree\"].apply(clean_categ)\n",
    "df['path_file'] = df[\"uniq_id\"].apply(get_path_file)\n",
    "df['categ_0'] = df[\"product_category_tree\"].apply(get_subcateg, args=(0))\n",
    "\n",
    "df.drop(columns=['crawl_timestamp','product_url','pid', 'retail_price', 'discounted_price',\n",
    "'image','is_FK_Advantage_product','product_rating','overall_rating','brand','product_specifications','uniq_id'],inplace=True)\n",
    "\n",
    "categ_0_names = df.categ_0.unique()\n"
   ]
  },
  {
   "cell_type": "code",
   "execution_count": 60,
   "metadata": {},
   "outputs": [],
   "source": [
    "\n",
    "images_list = get_img_list(df.path_file.values)\n",
    "categ_0_list_num, categ_0_names= pd.factorize(df['categ_0'])\n",
    "categ_0_list_hot =  tf.keras.utils.to_categorical(categ_0_list_num, num_classes=len(categ_0_names))\n"
   ]
  },
  {
   "cell_type": "code",
   "execution_count": 69,
   "metadata": {},
   "outputs": [],
   "source": [
    "from sklearn.model_selection import train_test_split\n",
    "X_train, X_val, y_train, y_val = train_test_split(images_list, categ_0_list_hot, test_size=0.1, random_state=42)"
   ]
  },
  {
   "cell_type": "code",
   "execution_count": 86,
   "metadata": {},
   "outputs": [],
   "source": [
    "# ds = tf.data.Dataset.from_tensor_slices((images_list, categ_0_list_hot))\n",
    "ds_train = tf.data.Dataset.from_tensor_slices((X_train, y_train))\n",
    "ds_val = tf.data.Dataset.from_tensor_slices((X_val, y_val))"
   ]
  },
  {
   "cell_type": "code",
   "execution_count": 93,
   "metadata": {},
   "outputs": [],
   "source": [
    "BATCH_SIZE=4\n",
    "ds_train = ds_train.batch(BATCH_SIZE)\n",
    "# .prefetch( tf.data.AUTOTUNE)\n",
    "ds_val  = ds_val.batch(BATCH_SIZE)"
   ]
  },
  {
   "cell_type": "code",
   "execution_count": 94,
   "metadata": {},
   "outputs": [
    {
     "data": {
      "text/plain": [
       "<tf.Tensor: shape=(7,), dtype=float32, numpy=array([1., 0., 0., 0., 0., 0., 0.], dtype=float32)>"
      ]
     },
     "execution_count": 94,
     "metadata": {},
     "output_type": "execute_result"
    }
   ],
   "source": [
    "image_batch,label_batch = next(iter(ds))\n",
    "label_batch"
   ]
  },
  {
   "cell_type": "code",
   "execution_count": 95,
   "metadata": {},
   "outputs": [
    {
     "data": {
      "text/plain": [
       "<tf.Tensor: shape=(7,), dtype=float32, numpy=array([1., 0., 0., 0., 0., 0., 0.], dtype=float32)>"
      ]
     },
     "execution_count": 95,
     "metadata": {},
     "output_type": "execute_result"
    }
   ],
   "source": [
    "label_batch"
   ]
  },
  {
   "cell_type": "code",
   "execution_count": 109,
   "metadata": {},
   "outputs": [],
   "source": [
    "from tensorflow.keras.applications import EfficientNetB0\n",
    "from tensorflow.keras import layers\n",
    "from tensorflow.keras.models import Model\n",
    "IMG_SIZE = 224\n",
    "base_model = EfficientNetB0(include_top=True, weights=\"imagenet\")\n",
    "base_model = Model(base_model.inputs, base_model.layers[-2].output)\n",
    "\n",
    "model_in = layers.Input(shape=(IMG_SIZE, IMG_SIZE, 3))\n",
    "temp_out = base_model(model_in)\n",
    "\n",
    "model_out = layers.Dense(7,activation='softmax')(temp_out)\n",
    "\n",
    "model_effnet = tf.keras.Model(model_in, model_out)"
   ]
  },
  {
   "cell_type": "code",
   "execution_count": 110,
   "metadata": {},
   "outputs": [],
   "source": [
    "model_effnet.compile(optimizer=\"adam\", loss=\"categorical_crossentropy\", metrics=[\"accuracy\"])"
   ]
  },
  {
   "cell_type": "code",
   "execution_count": null,
   "metadata": {},
   "outputs": [],
   "source": [
    "from tensorflow.keras.callbacks import EarlyStopping\n",
    "es = EarlyStopping(mode='min', monitor='val_loss', patience=10, verbose=0)\n",
    "rl = ReduceLROnPlateau(monitor='val_acc',factor=0.1,patience=5,verbose=1,mode=\"max\",min_lr=0.0001)"
   ]
  },
  {
   "cell_type": "code",
   "execution_count": 112,
   "metadata": {},
   "outputs": [
    {
     "name": "stdout",
     "output_type": "stream",
     "text": [
      "Epoch 1/50\n",
      "237/237 [==============================] - 14s 57ms/step - loss: 0.8623 - accuracy: 0.7058 - val_loss: 1.3262 - val_accuracy: 0.6286\n",
      "Epoch 2/50\n",
      "237/237 [==============================] - 13s 55ms/step - loss: 0.5182 - accuracy: 0.8201 - val_loss: 1.8580 - val_accuracy: 0.5905\n",
      "Epoch 3/50\n",
      "237/237 [==============================] - 13s 55ms/step - loss: 0.4154 - accuracy: 0.8540 - val_loss: 1.0331 - val_accuracy: 0.7429\n",
      "Epoch 4/50\n",
      "237/237 [==============================] - 13s 55ms/step - loss: 0.2480 - accuracy: 0.9238 - val_loss: 1.3163 - val_accuracy: 0.7619\n",
      "Epoch 5/50\n",
      "237/237 [==============================] - 13s 54ms/step - loss: 0.2225 - accuracy: 0.9354 - val_loss: 1.9349 - val_accuracy: 0.7238\n",
      "Epoch 6/50\n",
      "237/237 [==============================] - 13s 55ms/step - loss: 0.2329 - accuracy: 0.9185 - val_loss: 1.1773 - val_accuracy: 0.7238\n",
      "Epoch 7/50\n",
      "237/237 [==============================] - 13s 55ms/step - loss: 0.1942 - accuracy: 0.9312 - val_loss: 1.7445 - val_accuracy: 0.6857\n",
      "Epoch 8/50\n",
      "237/237 [==============================] - 13s 54ms/step - loss: 0.1944 - accuracy: 0.9344 - val_loss: 1.6623 - val_accuracy: 0.6571\n",
      "Epoch 9/50\n",
      "237/237 [==============================] - 13s 54ms/step - loss: 0.2129 - accuracy: 0.9280 - val_loss: 4.0989 - val_accuracy: 0.5429\n",
      "Epoch 10/50\n",
      "237/237 [==============================] - 13s 54ms/step - loss: 0.1931 - accuracy: 0.9291 - val_loss: 1.5922 - val_accuracy: 0.6857\n",
      "Epoch 11/50\n",
      "237/237 [==============================] - 13s 54ms/step - loss: 0.1413 - accuracy: 0.9566 - val_loss: 2.0124 - val_accuracy: 0.6381\n",
      "Epoch 12/50\n",
      "237/237 [==============================] - 13s 54ms/step - loss: 0.1745 - accuracy: 0.9323 - val_loss: 1.2833 - val_accuracy: 0.6857\n",
      "Epoch 13/50\n",
      "237/237 [==============================] - 13s 54ms/step - loss: 0.0517 - accuracy: 0.9841 - val_loss: 0.9967 - val_accuracy: 0.7810\n",
      "Epoch 14/50\n",
      "237/237 [==============================] - 13s 54ms/step - loss: 0.0755 - accuracy: 0.9757 - val_loss: 1.7858 - val_accuracy: 0.6571\n",
      "Epoch 15/50\n",
      "237/237 [==============================] - 13s 55ms/step - loss: 0.0543 - accuracy: 0.9841 - val_loss: 1.9001 - val_accuracy: 0.7333\n",
      "Epoch 16/50\n",
      "237/237 [==============================] - 13s 55ms/step - loss: 0.0760 - accuracy: 0.9757 - val_loss: 1.7803 - val_accuracy: 0.7714\n",
      "Epoch 17/50\n",
      "237/237 [==============================] - 13s 54ms/step - loss: 0.2184 - accuracy: 0.9344 - val_loss: 2.4856 - val_accuracy: 0.6571\n",
      "Epoch 18/50\n",
      "237/237 [==============================] - 13s 54ms/step - loss: 0.2736 - accuracy: 0.9079 - val_loss: 1.8930 - val_accuracy: 0.7048\n",
      "Epoch 19/50\n",
      "237/237 [==============================] - 13s 54ms/step - loss: 0.0999 - accuracy: 0.9714 - val_loss: 1.4375 - val_accuracy: 0.7143\n",
      "Epoch 20/50\n",
      "237/237 [==============================] - 13s 54ms/step - loss: 0.0546 - accuracy: 0.9820 - val_loss: 2.0729 - val_accuracy: 0.7143\n",
      "Epoch 21/50\n",
      "237/237 [==============================] - 13s 55ms/step - loss: 0.1083 - accuracy: 0.9683 - val_loss: 2.1081 - val_accuracy: 0.6571\n",
      "Epoch 22/50\n",
      "237/237 [==============================] - 13s 54ms/step - loss: 0.0967 - accuracy: 0.9683 - val_loss: 2.2324 - val_accuracy: 0.6857\n",
      "Epoch 23/50\n",
      "237/237 [==============================] - 13s 55ms/step - loss: 0.0743 - accuracy: 0.9767 - val_loss: 1.6544 - val_accuracy: 0.7048\n",
      "Epoch 24/50\n",
      "237/237 [==============================] - 13s 55ms/step - loss: 0.1232 - accuracy: 0.9630 - val_loss: 2.4132 - val_accuracy: 0.6095\n",
      "Epoch 25/50\n",
      "237/237 [==============================] - 13s 55ms/step - loss: 0.0936 - accuracy: 0.9746 - val_loss: 1.9341 - val_accuracy: 0.6857\n",
      "Epoch 26/50\n",
      "237/237 [==============================] - 13s 54ms/step - loss: 0.0636 - accuracy: 0.9799 - val_loss: 2.5623 - val_accuracy: 0.6857\n",
      "Epoch 27/50\n",
      "237/237 [==============================] - 13s 54ms/step - loss: 0.0624 - accuracy: 0.9778 - val_loss: 1.7611 - val_accuracy: 0.6476\n",
      "Epoch 28/50\n",
      "237/237 [==============================] - 13s 55ms/step - loss: 0.0287 - accuracy: 0.9926 - val_loss: 1.6878 - val_accuracy: 0.7333\n",
      "Epoch 29/50\n",
      "237/237 [==============================] - 13s 54ms/step - loss: 0.0108 - accuracy: 0.9979 - val_loss: 1.5746 - val_accuracy: 0.7333\n",
      "Epoch 30/50\n",
      "237/237 [==============================] - 13s 55ms/step - loss: 0.0025 - accuracy: 0.9989 - val_loss: 1.7399 - val_accuracy: 0.7524\n",
      "Epoch 31/50\n",
      "237/237 [==============================] - 13s 55ms/step - loss: 9.2444e-04 - accuracy: 1.0000 - val_loss: 1.6723 - val_accuracy: 0.7429\n",
      "Epoch 32/50\n",
      "237/237 [==============================] - 13s 55ms/step - loss: 4.1259e-04 - accuracy: 1.0000 - val_loss: 1.6753 - val_accuracy: 0.7524\n",
      "Epoch 33/50\n",
      "237/237 [==============================] - 13s 54ms/step - loss: 0.0227 - accuracy: 0.9947 - val_loss: 3.0204 - val_accuracy: 0.5619\n",
      "Epoch 34/50\n",
      "237/237 [==============================] - 13s 54ms/step - loss: 0.7718 - accuracy: 0.7820 - val_loss: 2.6588 - val_accuracy: 0.5714\n",
      "Epoch 35/50\n",
      "237/237 [==============================] - 13s 54ms/step - loss: 0.1676 - accuracy: 0.9344 - val_loss: 1.5644 - val_accuracy: 0.6286\n",
      "Epoch 36/50\n",
      "237/237 [==============================] - 13s 55ms/step - loss: 0.0316 - accuracy: 0.9947 - val_loss: 1.4492 - val_accuracy: 0.7333\n",
      "Epoch 37/50\n",
      "237/237 [==============================] - 13s 54ms/step - loss: 0.0051 - accuracy: 1.0000 - val_loss: 1.3623 - val_accuracy: 0.7333\n",
      "Epoch 38/50\n",
      " 59/237 [======>.......................] - ETA: 9s - loss: 0.0017 - accuracy: 1.0000"
     ]
    },
    {
     "ename": "KeyboardInterrupt",
     "evalue": "",
     "output_type": "error",
     "traceback": [
      "\u001b[1;31m---------------------------------------------------------------------------\u001b[0m",
      "\u001b[1;31mKeyboardInterrupt\u001b[0m                         Traceback (most recent call last)",
      "\u001b[1;32mc:\\Users\\fuetu\\gitlocal\\P23_remote_marketplace\\exploration_02.ipynb Cell 12'\u001b[0m in \u001b[0;36m<cell line: 1>\u001b[1;34m()\u001b[0m\n\u001b[1;32m----> <a href='vscode-notebook-cell://ssh-remote%2Btransistor/c%3A/Users/fuetu/gitlocal/P23_remote_marketplace/exploration_02.ipynb#ch0000017vscode-remote?line=0'>1</a>\u001b[0m history \u001b[39m=\u001b[39m model_effnet\u001b[39m.\u001b[39;49mfit(ds_train,\n\u001b[0;32m      <a href='vscode-notebook-cell://ssh-remote%2Btransistor/c%3A/Users/fuetu/gitlocal/P23_remote_marketplace/exploration_02.ipynb#ch0000017vscode-remote?line=1'>2</a>\u001b[0m                             epochs \u001b[39m=\u001b[39;49m \u001b[39m50\u001b[39;49m,\n\u001b[0;32m      <a href='vscode-notebook-cell://ssh-remote%2Btransistor/c%3A/Users/fuetu/gitlocal/P23_remote_marketplace/exploration_02.ipynb#ch0000017vscode-remote?line=2'>3</a>\u001b[0m                             validation_data\u001b[39m=\u001b[39;49mds_val,\n\u001b[0;32m      <a href='vscode-notebook-cell://ssh-remote%2Btransistor/c%3A/Users/fuetu/gitlocal/P23_remote_marketplace/exploration_02.ipynb#ch0000017vscode-remote?line=3'>4</a>\u001b[0m                             \u001b[39m# steps_per_epoch=50,\u001b[39;49;00m\n\u001b[0;32m      <a href='vscode-notebook-cell://ssh-remote%2Btransistor/c%3A/Users/fuetu/gitlocal/P23_remote_marketplace/exploration_02.ipynb#ch0000017vscode-remote?line=4'>5</a>\u001b[0m                             \u001b[39m# validation_steps = 5\u001b[39;49;00m\n\u001b[0;32m      <a href='vscode-notebook-cell://ssh-remote%2Btransistor/c%3A/Users/fuetu/gitlocal/P23_remote_marketplace/exploration_02.ipynb#ch0000017vscode-remote?line=5'>6</a>\u001b[0m                             )\n",
      "File \u001b[1;32mc:\\Users\\fuetu\\.virtualenvs\\P23_remote_marketplace-UJLiqy4W\\lib\\site-packages\\keras\\utils\\traceback_utils.py:64\u001b[0m, in \u001b[0;36mfilter_traceback.<locals>.error_handler\u001b[1;34m(*args, **kwargs)\u001b[0m\n\u001b[0;32m     <a href='file:///c%3A/Users/fuetu/.virtualenvs/P23_remote_marketplace-UJLiqy4W/lib/site-packages/keras/utils/traceback_utils.py?line=61'>62</a>\u001b[0m filtered_tb \u001b[39m=\u001b[39m \u001b[39mNone\u001b[39;00m\n\u001b[0;32m     <a href='file:///c%3A/Users/fuetu/.virtualenvs/P23_remote_marketplace-UJLiqy4W/lib/site-packages/keras/utils/traceback_utils.py?line=62'>63</a>\u001b[0m \u001b[39mtry\u001b[39;00m:\n\u001b[1;32m---> <a href='file:///c%3A/Users/fuetu/.virtualenvs/P23_remote_marketplace-UJLiqy4W/lib/site-packages/keras/utils/traceback_utils.py?line=63'>64</a>\u001b[0m   \u001b[39mreturn\u001b[39;00m fn(\u001b[39m*\u001b[39margs, \u001b[39m*\u001b[39m\u001b[39m*\u001b[39mkwargs)\n\u001b[0;32m     <a href='file:///c%3A/Users/fuetu/.virtualenvs/P23_remote_marketplace-UJLiqy4W/lib/site-packages/keras/utils/traceback_utils.py?line=64'>65</a>\u001b[0m \u001b[39mexcept\u001b[39;00m \u001b[39mException\u001b[39;00m \u001b[39mas\u001b[39;00m e:  \u001b[39m# pylint: disable=broad-except\u001b[39;00m\n\u001b[0;32m     <a href='file:///c%3A/Users/fuetu/.virtualenvs/P23_remote_marketplace-UJLiqy4W/lib/site-packages/keras/utils/traceback_utils.py?line=65'>66</a>\u001b[0m   filtered_tb \u001b[39m=\u001b[39m _process_traceback_frames(e\u001b[39m.\u001b[39m__traceback__)\n",
      "File \u001b[1;32mc:\\Users\\fuetu\\.virtualenvs\\P23_remote_marketplace-UJLiqy4W\\lib\\site-packages\\keras\\engine\\training.py:1409\u001b[0m, in \u001b[0;36mModel.fit\u001b[1;34m(self, x, y, batch_size, epochs, verbose, callbacks, validation_split, validation_data, shuffle, class_weight, sample_weight, initial_epoch, steps_per_epoch, validation_steps, validation_batch_size, validation_freq, max_queue_size, workers, use_multiprocessing)\u001b[0m\n\u001b[0;32m   <a href='file:///c%3A/Users/fuetu/.virtualenvs/P23_remote_marketplace-UJLiqy4W/lib/site-packages/keras/engine/training.py?line=1401'>1402</a>\u001b[0m \u001b[39mwith\u001b[39;00m tf\u001b[39m.\u001b[39mprofiler\u001b[39m.\u001b[39mexperimental\u001b[39m.\u001b[39mTrace(\n\u001b[0;32m   <a href='file:///c%3A/Users/fuetu/.virtualenvs/P23_remote_marketplace-UJLiqy4W/lib/site-packages/keras/engine/training.py?line=1402'>1403</a>\u001b[0m     \u001b[39m'\u001b[39m\u001b[39mtrain\u001b[39m\u001b[39m'\u001b[39m,\n\u001b[0;32m   <a href='file:///c%3A/Users/fuetu/.virtualenvs/P23_remote_marketplace-UJLiqy4W/lib/site-packages/keras/engine/training.py?line=1403'>1404</a>\u001b[0m     epoch_num\u001b[39m=\u001b[39mepoch,\n\u001b[0;32m   <a href='file:///c%3A/Users/fuetu/.virtualenvs/P23_remote_marketplace-UJLiqy4W/lib/site-packages/keras/engine/training.py?line=1404'>1405</a>\u001b[0m     step_num\u001b[39m=\u001b[39mstep,\n\u001b[0;32m   <a href='file:///c%3A/Users/fuetu/.virtualenvs/P23_remote_marketplace-UJLiqy4W/lib/site-packages/keras/engine/training.py?line=1405'>1406</a>\u001b[0m     batch_size\u001b[39m=\u001b[39mbatch_size,\n\u001b[0;32m   <a href='file:///c%3A/Users/fuetu/.virtualenvs/P23_remote_marketplace-UJLiqy4W/lib/site-packages/keras/engine/training.py?line=1406'>1407</a>\u001b[0m     _r\u001b[39m=\u001b[39m\u001b[39m1\u001b[39m):\n\u001b[0;32m   <a href='file:///c%3A/Users/fuetu/.virtualenvs/P23_remote_marketplace-UJLiqy4W/lib/site-packages/keras/engine/training.py?line=1407'>1408</a>\u001b[0m   callbacks\u001b[39m.\u001b[39mon_train_batch_begin(step)\n\u001b[1;32m-> <a href='file:///c%3A/Users/fuetu/.virtualenvs/P23_remote_marketplace-UJLiqy4W/lib/site-packages/keras/engine/training.py?line=1408'>1409</a>\u001b[0m   tmp_logs \u001b[39m=\u001b[39m \u001b[39mself\u001b[39;49m\u001b[39m.\u001b[39;49mtrain_function(iterator)\n\u001b[0;32m   <a href='file:///c%3A/Users/fuetu/.virtualenvs/P23_remote_marketplace-UJLiqy4W/lib/site-packages/keras/engine/training.py?line=1409'>1410</a>\u001b[0m   \u001b[39mif\u001b[39;00m data_handler\u001b[39m.\u001b[39mshould_sync:\n\u001b[0;32m   <a href='file:///c%3A/Users/fuetu/.virtualenvs/P23_remote_marketplace-UJLiqy4W/lib/site-packages/keras/engine/training.py?line=1410'>1411</a>\u001b[0m     context\u001b[39m.\u001b[39masync_wait()\n",
      "File \u001b[1;32mc:\\Users\\fuetu\\.virtualenvs\\P23_remote_marketplace-UJLiqy4W\\lib\\site-packages\\tensorflow\\python\\util\\traceback_utils.py:150\u001b[0m, in \u001b[0;36mfilter_traceback.<locals>.error_handler\u001b[1;34m(*args, **kwargs)\u001b[0m\n\u001b[0;32m    <a href='file:///c%3A/Users/fuetu/.virtualenvs/P23_remote_marketplace-UJLiqy4W/lib/site-packages/tensorflow/python/util/traceback_utils.py?line=147'>148</a>\u001b[0m filtered_tb \u001b[39m=\u001b[39m \u001b[39mNone\u001b[39;00m\n\u001b[0;32m    <a href='file:///c%3A/Users/fuetu/.virtualenvs/P23_remote_marketplace-UJLiqy4W/lib/site-packages/tensorflow/python/util/traceback_utils.py?line=148'>149</a>\u001b[0m \u001b[39mtry\u001b[39;00m:\n\u001b[1;32m--> <a href='file:///c%3A/Users/fuetu/.virtualenvs/P23_remote_marketplace-UJLiqy4W/lib/site-packages/tensorflow/python/util/traceback_utils.py?line=149'>150</a>\u001b[0m   \u001b[39mreturn\u001b[39;00m fn(\u001b[39m*\u001b[39margs, \u001b[39m*\u001b[39m\u001b[39m*\u001b[39mkwargs)\n\u001b[0;32m    <a href='file:///c%3A/Users/fuetu/.virtualenvs/P23_remote_marketplace-UJLiqy4W/lib/site-packages/tensorflow/python/util/traceback_utils.py?line=150'>151</a>\u001b[0m \u001b[39mexcept\u001b[39;00m \u001b[39mException\u001b[39;00m \u001b[39mas\u001b[39;00m e:\n\u001b[0;32m    <a href='file:///c%3A/Users/fuetu/.virtualenvs/P23_remote_marketplace-UJLiqy4W/lib/site-packages/tensorflow/python/util/traceback_utils.py?line=151'>152</a>\u001b[0m   filtered_tb \u001b[39m=\u001b[39m _process_traceback_frames(e\u001b[39m.\u001b[39m__traceback__)\n",
      "File \u001b[1;32mc:\\Users\\fuetu\\.virtualenvs\\P23_remote_marketplace-UJLiqy4W\\lib\\site-packages\\tensorflow\\python\\eager\\def_function.py:915\u001b[0m, in \u001b[0;36mFunction.__call__\u001b[1;34m(self, *args, **kwds)\u001b[0m\n\u001b[0;32m    <a href='file:///c%3A/Users/fuetu/.virtualenvs/P23_remote_marketplace-UJLiqy4W/lib/site-packages/tensorflow/python/eager/def_function.py?line=911'>912</a>\u001b[0m compiler \u001b[39m=\u001b[39m \u001b[39m\"\u001b[39m\u001b[39mxla\u001b[39m\u001b[39m\"\u001b[39m \u001b[39mif\u001b[39;00m \u001b[39mself\u001b[39m\u001b[39m.\u001b[39m_jit_compile \u001b[39melse\u001b[39;00m \u001b[39m\"\u001b[39m\u001b[39mnonXla\u001b[39m\u001b[39m\"\u001b[39m\n\u001b[0;32m    <a href='file:///c%3A/Users/fuetu/.virtualenvs/P23_remote_marketplace-UJLiqy4W/lib/site-packages/tensorflow/python/eager/def_function.py?line=913'>914</a>\u001b[0m \u001b[39mwith\u001b[39;00m OptionalXlaContext(\u001b[39mself\u001b[39m\u001b[39m.\u001b[39m_jit_compile):\n\u001b[1;32m--> <a href='file:///c%3A/Users/fuetu/.virtualenvs/P23_remote_marketplace-UJLiqy4W/lib/site-packages/tensorflow/python/eager/def_function.py?line=914'>915</a>\u001b[0m   result \u001b[39m=\u001b[39m \u001b[39mself\u001b[39m\u001b[39m.\u001b[39m_call(\u001b[39m*\u001b[39margs, \u001b[39m*\u001b[39m\u001b[39m*\u001b[39mkwds)\n\u001b[0;32m    <a href='file:///c%3A/Users/fuetu/.virtualenvs/P23_remote_marketplace-UJLiqy4W/lib/site-packages/tensorflow/python/eager/def_function.py?line=916'>917</a>\u001b[0m new_tracing_count \u001b[39m=\u001b[39m \u001b[39mself\u001b[39m\u001b[39m.\u001b[39mexperimental_get_tracing_count()\n\u001b[0;32m    <a href='file:///c%3A/Users/fuetu/.virtualenvs/P23_remote_marketplace-UJLiqy4W/lib/site-packages/tensorflow/python/eager/def_function.py?line=917'>918</a>\u001b[0m without_tracing \u001b[39m=\u001b[39m (tracing_count \u001b[39m==\u001b[39m new_tracing_count)\n",
      "File \u001b[1;32mc:\\Users\\fuetu\\.virtualenvs\\P23_remote_marketplace-UJLiqy4W\\lib\\site-packages\\tensorflow\\python\\eager\\def_function.py:947\u001b[0m, in \u001b[0;36mFunction._call\u001b[1;34m(self, *args, **kwds)\u001b[0m\n\u001b[0;32m    <a href='file:///c%3A/Users/fuetu/.virtualenvs/P23_remote_marketplace-UJLiqy4W/lib/site-packages/tensorflow/python/eager/def_function.py?line=943'>944</a>\u001b[0m   \u001b[39mself\u001b[39m\u001b[39m.\u001b[39m_lock\u001b[39m.\u001b[39mrelease()\n\u001b[0;32m    <a href='file:///c%3A/Users/fuetu/.virtualenvs/P23_remote_marketplace-UJLiqy4W/lib/site-packages/tensorflow/python/eager/def_function.py?line=944'>945</a>\u001b[0m   \u001b[39m# In this case we have created variables on the first call, so we run the\u001b[39;00m\n\u001b[0;32m    <a href='file:///c%3A/Users/fuetu/.virtualenvs/P23_remote_marketplace-UJLiqy4W/lib/site-packages/tensorflow/python/eager/def_function.py?line=945'>946</a>\u001b[0m   \u001b[39m# defunned version which is guaranteed to never create variables.\u001b[39;00m\n\u001b[1;32m--> <a href='file:///c%3A/Users/fuetu/.virtualenvs/P23_remote_marketplace-UJLiqy4W/lib/site-packages/tensorflow/python/eager/def_function.py?line=946'>947</a>\u001b[0m   \u001b[39mreturn\u001b[39;00m \u001b[39mself\u001b[39m\u001b[39m.\u001b[39m_stateless_fn(\u001b[39m*\u001b[39margs, \u001b[39m*\u001b[39m\u001b[39m*\u001b[39mkwds)  \u001b[39m# pylint: disable=not-callable\u001b[39;00m\n\u001b[0;32m    <a href='file:///c%3A/Users/fuetu/.virtualenvs/P23_remote_marketplace-UJLiqy4W/lib/site-packages/tensorflow/python/eager/def_function.py?line=947'>948</a>\u001b[0m \u001b[39melif\u001b[39;00m \u001b[39mself\u001b[39m\u001b[39m.\u001b[39m_stateful_fn \u001b[39mis\u001b[39;00m \u001b[39mnot\u001b[39;00m \u001b[39mNone\u001b[39;00m:\n\u001b[0;32m    <a href='file:///c%3A/Users/fuetu/.virtualenvs/P23_remote_marketplace-UJLiqy4W/lib/site-packages/tensorflow/python/eager/def_function.py?line=948'>949</a>\u001b[0m   \u001b[39m# Release the lock early so that multiple threads can perform the call\u001b[39;00m\n\u001b[0;32m    <a href='file:///c%3A/Users/fuetu/.virtualenvs/P23_remote_marketplace-UJLiqy4W/lib/site-packages/tensorflow/python/eager/def_function.py?line=949'>950</a>\u001b[0m   \u001b[39m# in parallel.\u001b[39;00m\n\u001b[0;32m    <a href='file:///c%3A/Users/fuetu/.virtualenvs/P23_remote_marketplace-UJLiqy4W/lib/site-packages/tensorflow/python/eager/def_function.py?line=950'>951</a>\u001b[0m   \u001b[39mself\u001b[39m\u001b[39m.\u001b[39m_lock\u001b[39m.\u001b[39mrelease()\n",
      "File \u001b[1;32mc:\\Users\\fuetu\\.virtualenvs\\P23_remote_marketplace-UJLiqy4W\\lib\\site-packages\\tensorflow\\python\\eager\\function.py:2453\u001b[0m, in \u001b[0;36mFunction.__call__\u001b[1;34m(self, *args, **kwargs)\u001b[0m\n\u001b[0;32m   <a href='file:///c%3A/Users/fuetu/.virtualenvs/P23_remote_marketplace-UJLiqy4W/lib/site-packages/tensorflow/python/eager/function.py?line=2449'>2450</a>\u001b[0m \u001b[39mwith\u001b[39;00m \u001b[39mself\u001b[39m\u001b[39m.\u001b[39m_lock:\n\u001b[0;32m   <a href='file:///c%3A/Users/fuetu/.virtualenvs/P23_remote_marketplace-UJLiqy4W/lib/site-packages/tensorflow/python/eager/function.py?line=2450'>2451</a>\u001b[0m   (graph_function,\n\u001b[0;32m   <a href='file:///c%3A/Users/fuetu/.virtualenvs/P23_remote_marketplace-UJLiqy4W/lib/site-packages/tensorflow/python/eager/function.py?line=2451'>2452</a>\u001b[0m    filtered_flat_args) \u001b[39m=\u001b[39m \u001b[39mself\u001b[39m\u001b[39m.\u001b[39m_maybe_define_function(args, kwargs)\n\u001b[1;32m-> <a href='file:///c%3A/Users/fuetu/.virtualenvs/P23_remote_marketplace-UJLiqy4W/lib/site-packages/tensorflow/python/eager/function.py?line=2452'>2453</a>\u001b[0m \u001b[39mreturn\u001b[39;00m graph_function\u001b[39m.\u001b[39;49m_call_flat(\n\u001b[0;32m   <a href='file:///c%3A/Users/fuetu/.virtualenvs/P23_remote_marketplace-UJLiqy4W/lib/site-packages/tensorflow/python/eager/function.py?line=2453'>2454</a>\u001b[0m     filtered_flat_args, captured_inputs\u001b[39m=\u001b[39;49mgraph_function\u001b[39m.\u001b[39;49mcaptured_inputs)\n",
      "File \u001b[1;32mc:\\Users\\fuetu\\.virtualenvs\\P23_remote_marketplace-UJLiqy4W\\lib\\site-packages\\tensorflow\\python\\eager\\function.py:1860\u001b[0m, in \u001b[0;36mConcreteFunction._call_flat\u001b[1;34m(self, args, captured_inputs, cancellation_manager)\u001b[0m\n\u001b[0;32m   <a href='file:///c%3A/Users/fuetu/.virtualenvs/P23_remote_marketplace-UJLiqy4W/lib/site-packages/tensorflow/python/eager/function.py?line=1855'>1856</a>\u001b[0m possible_gradient_type \u001b[39m=\u001b[39m gradients_util\u001b[39m.\u001b[39mPossibleTapeGradientTypes(args)\n\u001b[0;32m   <a href='file:///c%3A/Users/fuetu/.virtualenvs/P23_remote_marketplace-UJLiqy4W/lib/site-packages/tensorflow/python/eager/function.py?line=1856'>1857</a>\u001b[0m \u001b[39mif\u001b[39;00m (possible_gradient_type \u001b[39m==\u001b[39m gradients_util\u001b[39m.\u001b[39mPOSSIBLE_GRADIENT_TYPES_NONE\n\u001b[0;32m   <a href='file:///c%3A/Users/fuetu/.virtualenvs/P23_remote_marketplace-UJLiqy4W/lib/site-packages/tensorflow/python/eager/function.py?line=1857'>1858</a>\u001b[0m     \u001b[39mand\u001b[39;00m executing_eagerly):\n\u001b[0;32m   <a href='file:///c%3A/Users/fuetu/.virtualenvs/P23_remote_marketplace-UJLiqy4W/lib/site-packages/tensorflow/python/eager/function.py?line=1858'>1859</a>\u001b[0m   \u001b[39m# No tape is watching; skip to running the function.\u001b[39;00m\n\u001b[1;32m-> <a href='file:///c%3A/Users/fuetu/.virtualenvs/P23_remote_marketplace-UJLiqy4W/lib/site-packages/tensorflow/python/eager/function.py?line=1859'>1860</a>\u001b[0m   \u001b[39mreturn\u001b[39;00m \u001b[39mself\u001b[39m\u001b[39m.\u001b[39m_build_call_outputs(\u001b[39mself\u001b[39;49m\u001b[39m.\u001b[39;49m_inference_function\u001b[39m.\u001b[39;49mcall(\n\u001b[0;32m   <a href='file:///c%3A/Users/fuetu/.virtualenvs/P23_remote_marketplace-UJLiqy4W/lib/site-packages/tensorflow/python/eager/function.py?line=1860'>1861</a>\u001b[0m       ctx, args, cancellation_manager\u001b[39m=\u001b[39;49mcancellation_manager))\n\u001b[0;32m   <a href='file:///c%3A/Users/fuetu/.virtualenvs/P23_remote_marketplace-UJLiqy4W/lib/site-packages/tensorflow/python/eager/function.py?line=1861'>1862</a>\u001b[0m forward_backward \u001b[39m=\u001b[39m \u001b[39mself\u001b[39m\u001b[39m.\u001b[39m_select_forward_and_backward_functions(\n\u001b[0;32m   <a href='file:///c%3A/Users/fuetu/.virtualenvs/P23_remote_marketplace-UJLiqy4W/lib/site-packages/tensorflow/python/eager/function.py?line=1862'>1863</a>\u001b[0m     args,\n\u001b[0;32m   <a href='file:///c%3A/Users/fuetu/.virtualenvs/P23_remote_marketplace-UJLiqy4W/lib/site-packages/tensorflow/python/eager/function.py?line=1863'>1864</a>\u001b[0m     possible_gradient_type,\n\u001b[0;32m   <a href='file:///c%3A/Users/fuetu/.virtualenvs/P23_remote_marketplace-UJLiqy4W/lib/site-packages/tensorflow/python/eager/function.py?line=1864'>1865</a>\u001b[0m     executing_eagerly)\n\u001b[0;32m   <a href='file:///c%3A/Users/fuetu/.virtualenvs/P23_remote_marketplace-UJLiqy4W/lib/site-packages/tensorflow/python/eager/function.py?line=1865'>1866</a>\u001b[0m forward_function, args_with_tangents \u001b[39m=\u001b[39m forward_backward\u001b[39m.\u001b[39mforward()\n",
      "File \u001b[1;32mc:\\Users\\fuetu\\.virtualenvs\\P23_remote_marketplace-UJLiqy4W\\lib\\site-packages\\tensorflow\\python\\eager\\function.py:497\u001b[0m, in \u001b[0;36m_EagerDefinedFunction.call\u001b[1;34m(self, ctx, args, cancellation_manager)\u001b[0m\n\u001b[0;32m    <a href='file:///c%3A/Users/fuetu/.virtualenvs/P23_remote_marketplace-UJLiqy4W/lib/site-packages/tensorflow/python/eager/function.py?line=494'>495</a>\u001b[0m \u001b[39mwith\u001b[39;00m _InterpolateFunctionError(\u001b[39mself\u001b[39m):\n\u001b[0;32m    <a href='file:///c%3A/Users/fuetu/.virtualenvs/P23_remote_marketplace-UJLiqy4W/lib/site-packages/tensorflow/python/eager/function.py?line=495'>496</a>\u001b[0m   \u001b[39mif\u001b[39;00m cancellation_manager \u001b[39mis\u001b[39;00m \u001b[39mNone\u001b[39;00m:\n\u001b[1;32m--> <a href='file:///c%3A/Users/fuetu/.virtualenvs/P23_remote_marketplace-UJLiqy4W/lib/site-packages/tensorflow/python/eager/function.py?line=496'>497</a>\u001b[0m     outputs \u001b[39m=\u001b[39m execute\u001b[39m.\u001b[39;49mexecute(\n\u001b[0;32m    <a href='file:///c%3A/Users/fuetu/.virtualenvs/P23_remote_marketplace-UJLiqy4W/lib/site-packages/tensorflow/python/eager/function.py?line=497'>498</a>\u001b[0m         \u001b[39mstr\u001b[39;49m(\u001b[39mself\u001b[39;49m\u001b[39m.\u001b[39;49msignature\u001b[39m.\u001b[39;49mname),\n\u001b[0;32m    <a href='file:///c%3A/Users/fuetu/.virtualenvs/P23_remote_marketplace-UJLiqy4W/lib/site-packages/tensorflow/python/eager/function.py?line=498'>499</a>\u001b[0m         num_outputs\u001b[39m=\u001b[39;49m\u001b[39mself\u001b[39;49m\u001b[39m.\u001b[39;49m_num_outputs,\n\u001b[0;32m    <a href='file:///c%3A/Users/fuetu/.virtualenvs/P23_remote_marketplace-UJLiqy4W/lib/site-packages/tensorflow/python/eager/function.py?line=499'>500</a>\u001b[0m         inputs\u001b[39m=\u001b[39;49margs,\n\u001b[0;32m    <a href='file:///c%3A/Users/fuetu/.virtualenvs/P23_remote_marketplace-UJLiqy4W/lib/site-packages/tensorflow/python/eager/function.py?line=500'>501</a>\u001b[0m         attrs\u001b[39m=\u001b[39;49mattrs,\n\u001b[0;32m    <a href='file:///c%3A/Users/fuetu/.virtualenvs/P23_remote_marketplace-UJLiqy4W/lib/site-packages/tensorflow/python/eager/function.py?line=501'>502</a>\u001b[0m         ctx\u001b[39m=\u001b[39;49mctx)\n\u001b[0;32m    <a href='file:///c%3A/Users/fuetu/.virtualenvs/P23_remote_marketplace-UJLiqy4W/lib/site-packages/tensorflow/python/eager/function.py?line=502'>503</a>\u001b[0m   \u001b[39melse\u001b[39;00m:\n\u001b[0;32m    <a href='file:///c%3A/Users/fuetu/.virtualenvs/P23_remote_marketplace-UJLiqy4W/lib/site-packages/tensorflow/python/eager/function.py?line=503'>504</a>\u001b[0m     outputs \u001b[39m=\u001b[39m execute\u001b[39m.\u001b[39mexecute_with_cancellation(\n\u001b[0;32m    <a href='file:///c%3A/Users/fuetu/.virtualenvs/P23_remote_marketplace-UJLiqy4W/lib/site-packages/tensorflow/python/eager/function.py?line=504'>505</a>\u001b[0m         \u001b[39mstr\u001b[39m(\u001b[39mself\u001b[39m\u001b[39m.\u001b[39msignature\u001b[39m.\u001b[39mname),\n\u001b[0;32m    <a href='file:///c%3A/Users/fuetu/.virtualenvs/P23_remote_marketplace-UJLiqy4W/lib/site-packages/tensorflow/python/eager/function.py?line=505'>506</a>\u001b[0m         num_outputs\u001b[39m=\u001b[39m\u001b[39mself\u001b[39m\u001b[39m.\u001b[39m_num_outputs,\n\u001b[1;32m   (...)\u001b[0m\n\u001b[0;32m    <a href='file:///c%3A/Users/fuetu/.virtualenvs/P23_remote_marketplace-UJLiqy4W/lib/site-packages/tensorflow/python/eager/function.py?line=508'>509</a>\u001b[0m         ctx\u001b[39m=\u001b[39mctx,\n\u001b[0;32m    <a href='file:///c%3A/Users/fuetu/.virtualenvs/P23_remote_marketplace-UJLiqy4W/lib/site-packages/tensorflow/python/eager/function.py?line=509'>510</a>\u001b[0m         cancellation_manager\u001b[39m=\u001b[39mcancellation_manager)\n",
      "File \u001b[1;32mc:\\Users\\fuetu\\.virtualenvs\\P23_remote_marketplace-UJLiqy4W\\lib\\site-packages\\tensorflow\\python\\eager\\execute.py:54\u001b[0m, in \u001b[0;36mquick_execute\u001b[1;34m(op_name, num_outputs, inputs, attrs, ctx, name)\u001b[0m\n\u001b[0;32m     <a href='file:///c%3A/Users/fuetu/.virtualenvs/P23_remote_marketplace-UJLiqy4W/lib/site-packages/tensorflow/python/eager/execute.py?line=51'>52</a>\u001b[0m \u001b[39mtry\u001b[39;00m:\n\u001b[0;32m     <a href='file:///c%3A/Users/fuetu/.virtualenvs/P23_remote_marketplace-UJLiqy4W/lib/site-packages/tensorflow/python/eager/execute.py?line=52'>53</a>\u001b[0m   ctx\u001b[39m.\u001b[39mensure_initialized()\n\u001b[1;32m---> <a href='file:///c%3A/Users/fuetu/.virtualenvs/P23_remote_marketplace-UJLiqy4W/lib/site-packages/tensorflow/python/eager/execute.py?line=53'>54</a>\u001b[0m   tensors \u001b[39m=\u001b[39m pywrap_tfe\u001b[39m.\u001b[39;49mTFE_Py_Execute(ctx\u001b[39m.\u001b[39;49m_handle, device_name, op_name,\n\u001b[0;32m     <a href='file:///c%3A/Users/fuetu/.virtualenvs/P23_remote_marketplace-UJLiqy4W/lib/site-packages/tensorflow/python/eager/execute.py?line=54'>55</a>\u001b[0m                                       inputs, attrs, num_outputs)\n\u001b[0;32m     <a href='file:///c%3A/Users/fuetu/.virtualenvs/P23_remote_marketplace-UJLiqy4W/lib/site-packages/tensorflow/python/eager/execute.py?line=55'>56</a>\u001b[0m \u001b[39mexcept\u001b[39;00m core\u001b[39m.\u001b[39m_NotOkStatusException \u001b[39mas\u001b[39;00m e:\n\u001b[0;32m     <a href='file:///c%3A/Users/fuetu/.virtualenvs/P23_remote_marketplace-UJLiqy4W/lib/site-packages/tensorflow/python/eager/execute.py?line=56'>57</a>\u001b[0m   \u001b[39mif\u001b[39;00m name \u001b[39mis\u001b[39;00m \u001b[39mnot\u001b[39;00m \u001b[39mNone\u001b[39;00m:\n",
      "\u001b[1;31mKeyboardInterrupt\u001b[0m: "
     ]
    }
   ],
   "source": [
    "history = model_effnet.fit(ds_train,\n",
    "                            epochs = 50,\n",
    "                            validation_data=ds_val,\n",
    "                            # steps_per_epoch=50,\n",
    "                            # validation_steps = 5\n",
    "                            )"
   ]
  },
  {
   "cell_type": "code",
   "execution_count": 113,
   "metadata": {},
   "outputs": [],
   "source": [
    " model_effnet.save('models/ model_effnet01.h5')"
   ]
  }
 ],
 "metadata": {
  "interpreter": {
   "hash": "cd034a515de17f468cd2037e9a44680cdca34a0229035d3131e4550d1883c7f0"
  },
  "kernelspec": {
   "display_name": "Python 3.10.4 ('P23_remote_marketplace-UJLiqy4W')",
   "language": "python",
   "name": "python3"
  },
  "language_info": {
   "codemirror_mode": {
    "name": "ipython",
    "version": 3
   },
   "file_extension": ".py",
   "mimetype": "text/x-python",
   "name": "python",
   "nbconvert_exporter": "python",
   "pygments_lexer": "ipython3",
   "version": "3.10.4"
  },
  "orig_nbformat": 4
 },
 "nbformat": 4,
 "nbformat_minor": 2
}
